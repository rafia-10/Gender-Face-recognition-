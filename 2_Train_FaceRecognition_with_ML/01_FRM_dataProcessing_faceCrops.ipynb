{
 "cells": [
  {
   "cell_type": "code",
   "execution_count": 7,
   "id": "0881b228-c544-4eb2-9cd6-0a443a44fe76",
   "metadata": {},
   "outputs": [
    {
     "name": "stdout",
     "output_type": "stream",
     "text": [
      "Requirement already satisfied: numpy in d:\\face_recognition\\facerecognition-flask-main\\facerecognition_flask\\lib\\site-packages (2.2.2)\n",
      "Requirement already satisfied: opencv-python in d:\\face_recognition\\facerecognition-flask-main\\facerecognition_flask\\lib\\site-packages (4.11.0.86)\n",
      "Requirement already satisfied: matplotlib in d:\\face_recognition\\facerecognition-flask-main\\facerecognition_flask\\lib\\site-packages (3.10.0)\n",
      "Requirement already satisfied: contourpy>=1.0.1 in d:\\face_recognition\\facerecognition-flask-main\\facerecognition_flask\\lib\\site-packages (from matplotlib) (1.3.1)\n",
      "Requirement already satisfied: cycler>=0.10 in d:\\face_recognition\\facerecognition-flask-main\\facerecognition_flask\\lib\\site-packages (from matplotlib) (0.12.1)\n",
      "Requirement already satisfied: fonttools>=4.22.0 in d:\\face_recognition\\facerecognition-flask-main\\facerecognition_flask\\lib\\site-packages (from matplotlib) (4.55.8)\n",
      "Requirement already satisfied: kiwisolver>=1.3.1 in d:\\face_recognition\\facerecognition-flask-main\\facerecognition_flask\\lib\\site-packages (from matplotlib) (1.4.8)\n",
      "Requirement already satisfied: packaging>=20.0 in d:\\face_recognition\\facerecognition-flask-main\\facerecognition_flask\\lib\\site-packages (from matplotlib) (24.2)\n",
      "Requirement already satisfied: pillow>=8 in d:\\face_recognition\\facerecognition-flask-main\\facerecognition_flask\\lib\\site-packages (from matplotlib) (11.1.0)\n",
      "Requirement already satisfied: pyparsing>=2.3.1 in d:\\face_recognition\\facerecognition-flask-main\\facerecognition_flask\\lib\\site-packages (from matplotlib) (3.2.1)\n",
      "Requirement already satisfied: python-dateutil>=2.7 in d:\\face_recognition\\facerecognition-flask-main\\facerecognition_flask\\lib\\site-packages (from matplotlib) (2.9.0.post0)\n",
      "Requirement already satisfied: six>=1.5 in d:\\face_recognition\\facerecognition-flask-main\\facerecognition_flask\\lib\\site-packages (from python-dateutil>=2.7->matplotlib) (1.17.0)\n"
     ]
    },
    {
     "name": "stderr",
     "output_type": "stream",
     "text": [
      "\n",
      "[notice] A new release of pip is available: 23.2.1 -> 25.0\n",
      "[notice] To update, run: python.exe -m pip install --upgrade pip\n"
     ]
    }
   ],
   "source": [
    "!pip install numpy opencv-python matplotlib"
   ]
  },
  {
   "cell_type": "code",
   "execution_count": 6,
   "id": "67edf4cc-6d0f-4dd2-8559-02c7c052f807",
   "metadata": {},
   "outputs": [],
   "source": [
    "import numpy as np\n",
    "import cv2\n",
    "from glob import glob\n",
    "import matplotlib.pyplot as plt"
   ]
  },
  {
   "cell_type": "code",
   "execution_count": 9,
   "id": "35e4d6ad-137f-4231-832f-f6f88ca0aecd",
   "metadata": {},
   "outputs": [],
   "source": [
    "fpath = glob('./data/female/*.jpg')  # returns all female image list\n",
    "mpath = glob('./data/male/*.jpg')    # returns all male image list"
   ]
  },
  {
   "cell_type": "code",
   "execution_count": null,
   "id": "13afc938-817c-4537-aa14-f4567b82e045",
   "metadata": {},
   "outputs": [],
   "source": [
    "for i in range(len(fpath)):\n",
    "    try:\n",
    "        # Step 1: Read image and convert to RGB\n",
    "        img = cv2.imread(fpath[i])  # read in RGB format\n",
    "        img_RGB = cv2.cvtColor(img, cv2.COLOR_BGR2RGB)\n",
    "\n",
    "        # Step 2: Apply haar Cascade Classifier\n",
    "        haar = cv2.CascadeClassifier('./model/haarcascade_frontalface_default.xml')\n",
    "        grey = cv2.cvtColor(img_RGB, cv2.COLOR_BGR2GRAY)\n",
    "        faces_list = haar.detectMultiScale(grey, 1.5, 5)\n",
    "\n",
    "        if len(faces_list) == 0:\n",
    "            print(f\"No faces detected in image {i}\")\n",
    "            continue\n",
    "\n",
    "        for x, y, w, h in faces_list:\n",
    "            cv2.rectangle(img, (x, y), (x+w, y+h), (0, 255, 0), 2)\n",
    "            \n",
    "            # Step 3: Crop face\n",
    "            roi = img[y:y+h, x:x+w]\n",
    "            plt.imshow(roi)\n",
    "            plt.axis('off')\n",
    "            plt.show()\n",
    "            \n",
    "            # Step 4: Save image\n",
    "            cv2.imwrite(f'./crop_data/female/female_{i}.jpg', roi)\n",
    "            print('Image successfully processed')\n",
    "    except cv2.error as e:\n",
    "        print(f\"OpenCV error: {e}\")\n",
    "    except Exception as e:\n",
    "        print(f\"Error: {e}\")\n"
   ]
  },
  {
   "cell_type": "code",
   "execution_count": null,
   "id": "5400ec3e-4336-4782-a74b-07a1a461687b",
   "metadata": {},
   "outputs": [],
   "source": [
    "for i in range(len(fpath)):\n",
    "    try:\n",
    "        # Step 1: Read image and convert to RGB\n",
    "        img = cv2.imread(mpath[i])  # read in RGB format\n",
    "        img_RGB = cv2.cvtColor(img, cv2.COLOR_BGR2RGB)\n",
    "\n",
    "        # Step 2: Apply haar Cascade Classifier\n",
    "        haar = cv2.CascadeClassifier('./model/haarcascade_frontalface_default.xml')\n",
    "        grey = cv2.cvtColor(img_RGB, cv2.COLOR_BGR2GRAY)\n",
    "        faces_list = haar.detectMultiScale(grey, 1.5, 5)\n",
    "\n",
    "        if len(faces_list) == 0:\n",
    "            print(f\"No faces detected in image {i}\")\n",
    "            continue\n",
    "\n",
    "        for x, y, w, h in faces_list:\n",
    "            cv2.rectangle(img, (x, y), (x+w, y+h), (0, 255, 0), 2)\n",
    "            \n",
    "            # Step 3: Crop face\n",
    "            roi = img[y:y+h, x:x+w]\n",
    "            plt.imshow(roi)\n",
    "            plt.axis('off')\n",
    "            plt.show()\n",
    "            \n",
    "            # Step 4: Save image\n",
    "            cv2.imwrite(f'./crop_data/male/male_{i}.jpg', roi)\n",
    "            print('Image successfully processed')\n",
    "    except cv2.error as e:\n",
    "        print(f\"OpenCV error: {e}\")\n",
    "    except Exception as e:\n",
    "        print(f\"Error: {e}\")\n"
   ]
  },
  {
   "cell_type": "code",
   "execution_count": null,
   "id": "e65623dd-9c29-46ad-baaa-e029fad64da8",
   "metadata": {},
   "outputs": [],
   "source": []
  }
 ],
 "metadata": {
  "kernelspec": {
   "display_name": "Python 3 (ipykernel)",
   "language": "python",
   "name": "python3"
  },
  "language_info": {
   "codemirror_mode": {
    "name": "ipython",
    "version": 3
   },
   "file_extension": ".py",
   "mimetype": "text/x-python",
   "name": "python",
   "nbconvert_exporter": "python",
   "pygments_lexer": "ipython3",
   "version": "3.12.1"
  },
  "widgets": {
   "application/vnd.jupyter.widget-state+json": {
    "state": {},
    "version_major": 2,
    "version_minor": 0
   }
  }
 },
 "nbformat": 4,
 "nbformat_minor": 5
}
